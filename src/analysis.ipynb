{
 "cells": [
  {
   "cell_type": "markdown",
   "metadata": {},
   "source": [
    "# Imports"
   ]
  },
  {
   "cell_type": "code",
   "execution_count": 1,
   "metadata": {},
   "outputs": [],
   "source": [
    "import pandas as pd\n",
    "import requests\n",
    "import os\n",
    "from urllib.parse import urlencode"
   ]
  },
  {
   "cell_type": "markdown",
   "metadata": {},
   "source": [
    "# Testing Requests"
   ]
  },
  {
   "cell_type": "code",
   "execution_count": 7,
   "metadata": {},
   "outputs": [],
   "source": [
    "API_KEY = os.environ.get(\"API_KEY\")"
   ]
  },
  {
   "cell_type": "code",
   "execution_count": 11,
   "metadata": {},
   "outputs": [
    {
     "data": {
      "text/plain": [
       "{'results': [{'address_components': [{'long_name': 'Les Cheminches',\n",
       "     'short_name': 'Les Cheminches',\n",
       "     'types': ['route']},\n",
       "    {'long_name': 'Monistrol-sur-Loire',\n",
       "     'short_name': 'Monistrol-sur-Loire',\n",
       "     'types': ['locality', 'political']},\n",
       "    {'long_name': 'Haute-Loire',\n",
       "     'short_name': 'Haute-Loire',\n",
       "     'types': ['administrative_area_level_2', 'political']},\n",
       "    {'long_name': 'Auvergne-Rhône-Alpes',\n",
       "     'short_name': 'Auvergne-Rhône-Alpes',\n",
       "     'types': ['administrative_area_level_1', 'political']},\n",
       "    {'long_name': 'France',\n",
       "     'short_name': 'FR',\n",
       "     'types': ['country', 'political']},\n",
       "    {'long_name': '43120', 'short_name': '43120', 'types': ['postal_code']}],\n",
       "   'formatted_address': 'Les Cheminches, 43120 Monistrol-sur-Loire, France',\n",
       "   'geometry': {'bounds': {'northeast': {'lat': 45.2696404, 'lng': 4.18564},\n",
       "     'southwest': {'lat': 45.2660179, 'lng': 4.183802}},\n",
       "    'location': {'lat': 45.2678349, 'lng': 4.1846442},\n",
       "    'location_type': 'GEOMETRIC_CENTER',\n",
       "    'viewport': {'northeast': {'lat': 45.2696404, 'lng': 4.186069980291502},\n",
       "     'southwest': {'lat': 45.2660179, 'lng': 4.183372019708498}}},\n",
       "   'partial_match': True,\n",
       "   'place_id': 'ChIJWWx8yY2-9UcRIpQVYy9Gj_Q',\n",
       "   'types': ['route']}],\n",
       " 'status': 'OK'}"
      ]
     },
     "execution_count": 11,
     "metadata": {},
     "output_type": "execute_result"
    }
   ],
   "source": [
    "data_type = \"json\"\n",
    "params = {\n",
    "    \"address\":\"Decheterie de Monistrol sur Loire, les Cheminches, 43120\",\n",
    "    \"key\":API_KEY\n",
    "}\n",
    "url_params = urlencode(params)\n",
    "endpoint = \"https://maps.googleapis.com/maps/api/geocode/\"\n",
    "url = f\"{endpoint}{data_type}?{url_params}\"\n",
    "\n",
    "r = requests.get(url)\n",
    "r.json()"
   ]
  },
  {
   "cell_type": "code",
   "execution_count": 12,
   "metadata": {},
   "outputs": [],
   "source": [
    "res = r.json()"
   ]
  },
  {
   "cell_type": "code",
   "execution_count": 13,
   "metadata": {},
   "outputs": [
    {
     "data": {
      "text/plain": [
       "dict_keys(['bounds', 'location', 'location_type', 'viewport'])"
      ]
     },
     "execution_count": 13,
     "metadata": {},
     "output_type": "execute_result"
    }
   ],
   "source": [
    "res[\"results\"][0]['geometry'].keys()"
   ]
  },
  {
   "cell_type": "code",
   "execution_count": 14,
   "metadata": {},
   "outputs": [
    {
     "data": {
      "text/plain": [
       "{'lat': 45.2678349, 'lng': 4.1846442}"
      ]
     },
     "execution_count": 14,
     "metadata": {},
     "output_type": "execute_result"
    }
   ],
   "source": [
    "res[\"results\"][0]['geometry'][\"location\"]"
   ]
  },
  {
   "cell_type": "code",
   "execution_count": 15,
   "metadata": {},
   "outputs": [
    {
     "data": {
      "text/plain": [
       "'Les Cheminches, 43120 Monistrol-sur-Loire, France'"
      ]
     },
     "execution_count": 15,
     "metadata": {},
     "output_type": "execute_result"
    }
   ],
   "source": [
    "res[\"results\"][0]['formatted_address']"
   ]
  },
  {
   "cell_type": "markdown",
   "metadata": {},
   "source": [
    "# Loading and Cleaning Data"
   ]
  },
  {
   "cell_type": "code",
   "execution_count": 16,
   "metadata": {},
   "outputs": [],
   "source": [
    "project_dir = os.path.dirname(os.path.os.path.abspath(\"\"))\n",
    "data_dir = os.path.join(project_dir, \"data\")\n",
    "DATA_PATH  = os.path.join(data_dir, \"AURA-liste-decheteries-des-collectivites-2020.xlsx\")\n"
   ]
  },
  {
   "cell_type": "code",
   "execution_count": 18,
   "metadata": {},
   "outputs": [
    {
     "data": {
      "text/html": [
       "<div>\n",
       "<style scoped>\n",
       "    .dataframe tbody tr th:only-of-type {\n",
       "        vertical-align: middle;\n",
       "    }\n",
       "\n",
       "    .dataframe tbody tr th {\n",
       "        vertical-align: top;\n",
       "    }\n",
       "\n",
       "    .dataframe thead th {\n",
       "        text-align: right;\n",
       "    }\n",
       "</style>\n",
       "<table border=\"1\" class=\"dataframe\">\n",
       "  <thead>\n",
       "    <tr style=\"text-align: right;\">\n",
       "      <th></th>\n",
       "      <th>Code du département</th>\n",
       "      <th>Année</th>\n",
       "      <th>Code SINOE</th>\n",
       "      <th>Nom</th>\n",
       "      <th>Date d'ouverture</th>\n",
       "      <th>Date de fermeture</th>\n",
       "      <th>Adresse</th>\n",
       "      <th>Adresse (suite)</th>\n",
       "      <th>Code postal</th>\n",
       "      <th>Code commune</th>\n",
       "      <th>Libellé de la commune</th>\n",
       "      <th>Mode de gestion</th>\n",
       "      <th>Code MO</th>\n",
       "      <th>Nom MO</th>\n",
       "      <th>Code exploitant</th>\n",
       "      <th>Nom exploitant</th>\n",
       "      <th>Déchets des activités économiques acceptés</th>\n",
       "      <th>Déchets non dangereux des activités économiques</th>\n",
       "      <th>Déchets dangereux des activités économiques</th>\n",
       "      <th>Déchets amiantés</th>\n",
       "    </tr>\n",
       "  </thead>\n",
       "  <tbody>\n",
       "    <tr>\n",
       "      <th>0</th>\n",
       "      <td>43.0</td>\n",
       "      <td>2020.0</td>\n",
       "      <td>38317.0</td>\n",
       "      <td>Decheterie de Monistrol sur Loire</td>\n",
       "      <td>01/01/2003</td>\n",
       "      <td>NaN</td>\n",
       "      <td>les Cheminches</td>\n",
       "      <td>NaN</td>\n",
       "      <td>43120</td>\n",
       "      <td>43137.0</td>\n",
       "      <td>Monistrol-sur-Loire</td>\n",
       "      <td>Régie</td>\n",
       "      <td>218.0</td>\n",
       "      <td>Sympttom Monistrol sur Loire</td>\n",
       "      <td>218.0</td>\n",
       "      <td>Sympttom Monistrol sur Loire</td>\n",
       "      <td>Oui (gratuit)</td>\n",
       "      <td>Oui</td>\n",
       "      <td>Oui</td>\n",
       "      <td>Non</td>\n",
       "    </tr>\n",
       "    <tr>\n",
       "      <th>1</th>\n",
       "      <td>15.0</td>\n",
       "      <td>2020.0</td>\n",
       "      <td>38235.0</td>\n",
       "      <td>Decheterie de Pierrefort</td>\n",
       "      <td>01/01/2005</td>\n",
       "      <td>NaN</td>\n",
       "      <td>Rue de Salzet</td>\n",
       "      <td>NaN</td>\n",
       "      <td>15230</td>\n",
       "      <td>15152.0</td>\n",
       "      <td>Pierrefort</td>\n",
       "      <td>Régie</td>\n",
       "      <td>57489.0</td>\n",
       "      <td>Saint-flour Communauté</td>\n",
       "      <td>57489.0</td>\n",
       "      <td>Saint-flour Communauté</td>\n",
       "      <td>Oui (gratuit)</td>\n",
       "      <td>Oui</td>\n",
       "      <td>Oui</td>\n",
       "      <td>Non</td>\n",
       "    </tr>\n",
       "    <tr>\n",
       "      <th>2</th>\n",
       "      <td>63.0</td>\n",
       "      <td>2020.0</td>\n",
       "      <td>8649.0</td>\n",
       "      <td>Decheterie de Pionsat</td>\n",
       "      <td>01/01/2004</td>\n",
       "      <td>NaN</td>\n",
       "      <td>les Fayes</td>\n",
       "      <td>NaN</td>\n",
       "      <td>63330</td>\n",
       "      <td>63281.0</td>\n",
       "      <td>Pionsat</td>\n",
       "      <td>Marché de prestation de service</td>\n",
       "      <td>1226.0</td>\n",
       "      <td>Sictom des Combrailles</td>\n",
       "      <td>1525.0</td>\n",
       "      <td>Sita Mos</td>\n",
       "      <td>Oui (payant)</td>\n",
       "      <td>Oui</td>\n",
       "      <td>Oui</td>\n",
       "      <td>Non</td>\n",
       "    </tr>\n",
       "    <tr>\n",
       "      <th>3</th>\n",
       "      <td>15.0</td>\n",
       "      <td>2020.0</td>\n",
       "      <td>8252.0</td>\n",
       "      <td>Decheterie de Saint Flour</td>\n",
       "      <td>01/01/2005</td>\n",
       "      <td>NaN</td>\n",
       "      <td>les Cramades</td>\n",
       "      <td>Zi de la Florizane</td>\n",
       "      <td>15100</td>\n",
       "      <td>15187.0</td>\n",
       "      <td>Saint-Flour</td>\n",
       "      <td>Régie</td>\n",
       "      <td>57489.0</td>\n",
       "      <td>Saint-flour Communauté</td>\n",
       "      <td>57489.0</td>\n",
       "      <td>Saint-flour Communauté</td>\n",
       "      <td>Oui (payant)</td>\n",
       "      <td>Oui</td>\n",
       "      <td>Oui</td>\n",
       "      <td>Non</td>\n",
       "    </tr>\n",
       "    <tr>\n",
       "      <th>4</th>\n",
       "      <td>63.0</td>\n",
       "      <td>2020.0</td>\n",
       "      <td>2064.0</td>\n",
       "      <td>Decheterie de Saint Gervais d'Auvergne</td>\n",
       "      <td>14/06/2003</td>\n",
       "      <td>NaN</td>\n",
       "      <td>Saint-Gervais-D'Auvergne</td>\n",
       "      <td>NaN</td>\n",
       "      <td>63390</td>\n",
       "      <td>63354.0</td>\n",
       "      <td>Saint-Gervais-d'Auvergne</td>\n",
       "      <td>Marché de prestation de service</td>\n",
       "      <td>1226.0</td>\n",
       "      <td>Sictom des Combrailles</td>\n",
       "      <td>1525.0</td>\n",
       "      <td>Sita Mos</td>\n",
       "      <td>Oui (payant)</td>\n",
       "      <td>Oui</td>\n",
       "      <td>Oui</td>\n",
       "      <td>Non</td>\n",
       "    </tr>\n",
       "  </tbody>\n",
       "</table>\n",
       "</div>"
      ],
      "text/plain": [
       "   Code du département   Année  Code SINOE  \\\n",
       "0                 43.0  2020.0     38317.0   \n",
       "1                 15.0  2020.0     38235.0   \n",
       "2                 63.0  2020.0      8649.0   \n",
       "3                 15.0  2020.0      8252.0   \n",
       "4                 63.0  2020.0      2064.0   \n",
       "\n",
       "                                      Nom Date d'ouverture  Date de fermeture  \\\n",
       "0       Decheterie de Monistrol sur Loire       01/01/2003                NaN   \n",
       "1                Decheterie de Pierrefort       01/01/2005                NaN   \n",
       "2                   Decheterie de Pionsat       01/01/2004                NaN   \n",
       "3               Decheterie de Saint Flour       01/01/2005                NaN   \n",
       "4  Decheterie de Saint Gervais d'Auvergne       14/06/2003                NaN   \n",
       "\n",
       "                    Adresse     Adresse (suite) Code postal  Code commune  \\\n",
       "0            les Cheminches                 NaN       43120       43137.0   \n",
       "1             Rue de Salzet                 NaN       15230       15152.0   \n",
       "2                 les Fayes                 NaN       63330       63281.0   \n",
       "3              les Cramades  Zi de la Florizane       15100       15187.0   \n",
       "4  Saint-Gervais-D'Auvergne                 NaN       63390       63354.0   \n",
       "\n",
       "      Libellé de la commune                  Mode de gestion  Code MO  \\\n",
       "0       Monistrol-sur-Loire                            Régie    218.0   \n",
       "1                Pierrefort                            Régie  57489.0   \n",
       "2                   Pionsat  Marché de prestation de service   1226.0   \n",
       "3               Saint-Flour                            Régie  57489.0   \n",
       "4  Saint-Gervais-d'Auvergne  Marché de prestation de service   1226.0   \n",
       "\n",
       "                         Nom MO  Code exploitant  \\\n",
       "0  Sympttom Monistrol sur Loire            218.0   \n",
       "1        Saint-flour Communauté          57489.0   \n",
       "2        Sictom des Combrailles           1525.0   \n",
       "3        Saint-flour Communauté          57489.0   \n",
       "4        Sictom des Combrailles           1525.0   \n",
       "\n",
       "                 Nom exploitant Déchets des activités économiques acceptés  \\\n",
       "0  Sympttom Monistrol sur Loire                              Oui (gratuit)   \n",
       "1        Saint-flour Communauté                              Oui (gratuit)   \n",
       "2                      Sita Mos                               Oui (payant)   \n",
       "3        Saint-flour Communauté                               Oui (payant)   \n",
       "4                      Sita Mos                               Oui (payant)   \n",
       "\n",
       "  Déchets non dangereux des activités économiques  \\\n",
       "0                                             Oui   \n",
       "1                                             Oui   \n",
       "2                                             Oui   \n",
       "3                                             Oui   \n",
       "4                                             Oui   \n",
       "\n",
       "  Déchets dangereux des activités économiques Déchets amiantés  \n",
       "0                                         Oui              Non  \n",
       "1                                         Oui              Non  \n",
       "2                                         Oui              Non  \n",
       "3                                         Oui              Non  \n",
       "4                                         Oui              Non  "
      ]
     },
     "execution_count": 18,
     "metadata": {},
     "output_type": "execute_result"
    }
   ],
   "source": [
    "df_raw = pd.read_excel(DATA_PATH, header=2,dtype={\"Code postal\":str}, )[:-3]\n",
    "df_raw.head()"
   ]
  },
  {
   "cell_type": "code",
   "execution_count": 19,
   "metadata": {},
   "outputs": [
    {
     "data": {
      "text/html": [
       "<div>\n",
       "<style scoped>\n",
       "    .dataframe tbody tr th:only-of-type {\n",
       "        vertical-align: middle;\n",
       "    }\n",
       "\n",
       "    .dataframe tbody tr th {\n",
       "        vertical-align: top;\n",
       "    }\n",
       "\n",
       "    .dataframe thead th {\n",
       "        text-align: right;\n",
       "    }\n",
       "</style>\n",
       "<table border=\"1\" class=\"dataframe\">\n",
       "  <thead>\n",
       "    <tr style=\"text-align: right;\">\n",
       "      <th></th>\n",
       "      <th>Déchets non dangereux des activités économiques</th>\n",
       "      <th>Déchets dangereux des activités économiques</th>\n",
       "      <th>Déchets amiantés</th>\n",
       "    </tr>\n",
       "  </thead>\n",
       "  <tbody>\n",
       "    <tr>\n",
       "      <th>0</th>\n",
       "      <td>Oui</td>\n",
       "      <td>Oui</td>\n",
       "      <td>Non</td>\n",
       "    </tr>\n",
       "    <tr>\n",
       "      <th>1</th>\n",
       "      <td>Oui</td>\n",
       "      <td>Oui</td>\n",
       "      <td>Non</td>\n",
       "    </tr>\n",
       "    <tr>\n",
       "      <th>2</th>\n",
       "      <td>Oui</td>\n",
       "      <td>Oui</td>\n",
       "      <td>Non</td>\n",
       "    </tr>\n",
       "    <tr>\n",
       "      <th>3</th>\n",
       "      <td>Oui</td>\n",
       "      <td>Oui</td>\n",
       "      <td>Non</td>\n",
       "    </tr>\n",
       "    <tr>\n",
       "      <th>4</th>\n",
       "      <td>Oui</td>\n",
       "      <td>Oui</td>\n",
       "      <td>Non</td>\n",
       "    </tr>\n",
       "  </tbody>\n",
       "</table>\n",
       "</div>"
      ],
      "text/plain": [
       "  Déchets non dangereux des activités économiques  \\\n",
       "0                                             Oui   \n",
       "1                                             Oui   \n",
       "2                                             Oui   \n",
       "3                                             Oui   \n",
       "4                                             Oui   \n",
       "\n",
       "  Déchets dangereux des activités économiques Déchets amiantés  \n",
       "0                                         Oui              Non  \n",
       "1                                         Oui              Non  \n",
       "2                                         Oui              Non  \n",
       "3                                         Oui              Non  \n",
       "4                                         Oui              Non  "
      ]
     },
     "execution_count": 19,
     "metadata": {},
     "output_type": "execute_result"
    }
   ],
   "source": [
    "trash_cols = [\n",
    "    \"Déchets non dangereux des activités économiques\",\n",
    "    \"Déchets dangereux des activités économiques\",\n",
    "    \"Déchets amiantés\"]\n",
    "\n",
    "df_info_trash = df_raw[trash_cols]\n",
    "df_info_trash.head()"
   ]
  },
  {
   "cell_type": "code",
   "execution_count": 20,
   "metadata": {},
   "outputs": [
    {
     "data": {
      "text/plain": [
       "(585, 3)"
      ]
     },
     "execution_count": 20,
     "metadata": {},
     "output_type": "execute_result"
    }
   ],
   "source": [
    "df_info_trash.shape"
   ]
  },
  {
   "cell_type": "code",
   "execution_count": 21,
   "metadata": {},
   "outputs": [
    {
     "name": "stdout",
     "output_type": "stream",
     "text": [
      "<class 'pandas.core.frame.DataFrame'>\n",
      "RangeIndex: 585 entries, 0 to 584\n",
      "Data columns (total 3 columns):\n",
      " #   Column                                           Non-Null Count  Dtype \n",
      "---  ------                                           --------------  ----- \n",
      " 0   Déchets non dangereux des activités économiques  304 non-null    object\n",
      " 1   Déchets dangereux des activités économiques      304 non-null    object\n",
      " 2   Déchets amiantés                                 318 non-null    object\n",
      "dtypes: object(3)\n",
      "memory usage: 13.8+ KB\n"
     ]
    }
   ],
   "source": [
    "df_info_trash.info()"
   ]
  },
  {
   "cell_type": "code",
   "execution_count": 22,
   "metadata": {},
   "outputs": [
    {
     "name": "stdout",
     "output_type": "stream",
     "text": [
      "Déchets non dangereux des activités économiques : ['Oui' nan]\n",
      "Déchets dangereux des activités économiques : ['Oui' nan]\n",
      "Déchets amiantés : ['Non' nan 'Oui']\n"
     ]
    }
   ],
   "source": [
    "for col in trash_cols:\n",
    "    print(col,\":\",df_info_trash[col].unique())"
   ]
  },
  {
   "cell_type": "code",
   "execution_count": 15,
   "metadata": {},
   "outputs": [
    {
     "name": "stdout",
     "output_type": "stream",
     "text": [
      "<class 'pandas.core.frame.DataFrame'>\n",
      "RangeIndex: 585 entries, 0 to 584\n",
      "Data columns (total 3 columns):\n",
      " #   Column                                           Non-Null Count  Dtype \n",
      "---  ------                                           --------------  ----- \n",
      " 0   Déchets non dangereux des activités économiques  585 non-null    object\n",
      " 1   Déchets dangereux des activités économiques      585 non-null    object\n",
      " 2   Déchets amiantés                                 585 non-null    object\n",
      "dtypes: object(3)\n",
      "memory usage: 13.8+ KB\n"
     ]
    }
   ],
   "source": [
    "df_info_trash = df_info_trash.fillna(False)\n",
    "df_info_trash.info()"
   ]
  },
  {
   "cell_type": "code",
   "execution_count": 18,
   "metadata": {},
   "outputs": [],
   "source": [
    "df_info_trash.replace({'Oui':True, 'Non':False}, inplace=True)"
   ]
  },
  {
   "cell_type": "code",
   "execution_count": 19,
   "metadata": {},
   "outputs": [],
   "source": [
    "df_info_trash.rename(columns = {\n",
    "    'Déchets non dangereux des activités économiques':'non_dangereux', \n",
    "    'Déchets dangereux des activités économiques':'dangereux',\n",
    "    \"Déchets amiantés\":\"amiantes\"\n",
    "    }, inplace = True)\n"
   ]
  },
  {
   "cell_type": "code",
   "execution_count": 21,
   "metadata": {},
   "outputs": [],
   "source": [
    "cond = df_info_trash[~df_info_trash.non_dangereux & ~df_info_trash.dangereux & ~df_info_trash.amiantes]\n",
    "index_to_be_removed = cond.index"
   ]
  },
  {
   "cell_type": "code",
   "execution_count": 43,
   "metadata": {},
   "outputs": [],
   "source": [
    "df_info_trash = df_info_trash.drop(index_to_be_removed)"
   ]
  },
  {
   "cell_type": "code",
   "execution_count": 22,
   "metadata": {},
   "outputs": [],
   "source": [
    "cols = [\"Nom\", \"Adresse\",\"Adresse (suite)\", \"Libellé de la commune\", \"Code postal\"]"
   ]
  },
  {
   "cell_type": "code",
   "execution_count": 23,
   "metadata": {},
   "outputs": [
    {
     "data": {
      "text/html": [
       "<div>\n",
       "<style scoped>\n",
       "    .dataframe tbody tr th:only-of-type {\n",
       "        vertical-align: middle;\n",
       "    }\n",
       "\n",
       "    .dataframe tbody tr th {\n",
       "        vertical-align: top;\n",
       "    }\n",
       "\n",
       "    .dataframe thead th {\n",
       "        text-align: right;\n",
       "    }\n",
       "</style>\n",
       "<table border=\"1\" class=\"dataframe\">\n",
       "  <thead>\n",
       "    <tr style=\"text-align: right;\">\n",
       "      <th></th>\n",
       "      <th>Nom</th>\n",
       "      <th>Adresse</th>\n",
       "      <th>Adresse (suite)</th>\n",
       "      <th>Libellé de la commune</th>\n",
       "      <th>Code postal</th>\n",
       "      <th>address_raw</th>\n",
       "    </tr>\n",
       "  </thead>\n",
       "  <tbody>\n",
       "    <tr>\n",
       "      <th>0</th>\n",
       "      <td>Decheterie de Monistrol sur Loire</td>\n",
       "      <td>les Cheminches</td>\n",
       "      <td></td>\n",
       "      <td>Monistrol-sur-Loire</td>\n",
       "      <td>43120</td>\n",
       "      <td>Decheterie de Monistrol sur Loire les Cheminch...</td>\n",
       "    </tr>\n",
       "    <tr>\n",
       "      <th>1</th>\n",
       "      <td>Decheterie de Pierrefort</td>\n",
       "      <td>Rue de Salzet</td>\n",
       "      <td></td>\n",
       "      <td>Pierrefort</td>\n",
       "      <td>15230</td>\n",
       "      <td>Decheterie de Pierrefort Rue de Salzet  Pierre...</td>\n",
       "    </tr>\n",
       "    <tr>\n",
       "      <th>2</th>\n",
       "      <td>Decheterie de Pionsat</td>\n",
       "      <td>les Fayes</td>\n",
       "      <td></td>\n",
       "      <td>Pionsat</td>\n",
       "      <td>63330</td>\n",
       "      <td>Decheterie de Pionsat les Fayes  Pionsat 63330</td>\n",
       "    </tr>\n",
       "    <tr>\n",
       "      <th>3</th>\n",
       "      <td>Decheterie de Saint Flour</td>\n",
       "      <td>les Cramades</td>\n",
       "      <td>Zi de la Florizane</td>\n",
       "      <td>Saint-Flour</td>\n",
       "      <td>15100</td>\n",
       "      <td>Decheterie de Saint Flour les Cramades Zi de l...</td>\n",
       "    </tr>\n",
       "    <tr>\n",
       "      <th>4</th>\n",
       "      <td>Decheterie de Saint Gervais d'Auvergne</td>\n",
       "      <td>Saint-Gervais-D'Auvergne</td>\n",
       "      <td></td>\n",
       "      <td>Saint-Gervais-d'Auvergne</td>\n",
       "      <td>63390</td>\n",
       "      <td>Decheterie de Saint Gervais d'Auvergne Saint-G...</td>\n",
       "    </tr>\n",
       "  </tbody>\n",
       "</table>\n",
       "</div>"
      ],
      "text/plain": [
       "                                      Nom                   Adresse  \\\n",
       "0       Decheterie de Monistrol sur Loire            les Cheminches   \n",
       "1                Decheterie de Pierrefort             Rue de Salzet   \n",
       "2                   Decheterie de Pionsat                 les Fayes   \n",
       "3               Decheterie de Saint Flour              les Cramades   \n",
       "4  Decheterie de Saint Gervais d'Auvergne  Saint-Gervais-D'Auvergne   \n",
       "\n",
       "      Adresse (suite)     Libellé de la commune Code postal  \\\n",
       "0                           Monistrol-sur-Loire       43120   \n",
       "1                                    Pierrefort       15230   \n",
       "2                                       Pionsat       63330   \n",
       "3  Zi de la Florizane               Saint-Flour       15100   \n",
       "4                      Saint-Gervais-d'Auvergne       63390   \n",
       "\n",
       "                                         address_raw  \n",
       "0  Decheterie de Monistrol sur Loire les Cheminch...  \n",
       "1  Decheterie de Pierrefort Rue de Salzet  Pierre...  \n",
       "2     Decheterie de Pionsat les Fayes  Pionsat 63330  \n",
       "3  Decheterie de Saint Flour les Cramades Zi de l...  \n",
       "4  Decheterie de Saint Gervais d'Auvergne Saint-G...  "
      ]
     },
     "execution_count": 23,
     "metadata": {},
     "output_type": "execute_result"
    }
   ],
   "source": [
    "df_address = df_raw[cols]\n",
    "df_address = df_address.fillna(\"\")\n",
    "df_address[\"address_raw\"] = df_address[\"Nom\"]+\" \"+df_address[\"Adresse\"]+\" \"+df_address[\"Adresse (suite)\"]\\\n",
    "                            +\" \"+df_address[\"Libellé de la commune\"]+\" \"+df_address[\"Code postal\"]\n",
    "df_address.head()"
   ]
  },
  {
   "cell_type": "code",
   "execution_count": 24,
   "metadata": {},
   "outputs": [],
   "source": [
    "df_address = df_address.drop(index_to_be_removed)"
   ]
  },
  {
   "cell_type": "code",
   "execution_count": 25,
   "metadata": {},
   "outputs": [
    {
     "name": "stdout",
     "output_type": "stream",
     "text": [
      "Decheterie de Monistrol sur Loire les Cheminches  Monistrol-sur-Loire 43120\n"
     ]
    }
   ],
   "source": [
    "print(df_address[\"address_raw\"][0])"
   ]
  },
  {
   "cell_type": "code",
   "execution_count": 4,
   "metadata": {},
   "outputs": [
    {
     "name": "stdout",
     "output_type": "stream",
     "text": [
      "{'lat': 45.2678349, 'lng': 4.1846442}\n",
      "Les Cheminches, 43120 Monistrol-sur-Loire, France\n"
     ]
    }
   ],
   "source": [
    "from trashlocation import TrashLocation\n",
    "\n",
    "API_KEY = os.environ.get(\"API_KEY\")\n",
    "\n",
    "local = TrashLocation()\n",
    "local.API_KEY = API_KEY\n",
    "address = \"Decheterie de Monistrol sur Loire les Cheminches  Monistrol-sur-Loire 43120\"\n",
    "print(local.get_lat_lng(address=address))\n",
    "print(local.get_formatted_address(address=address))"
   ]
  },
  {
   "cell_type": "code",
   "execution_count": null,
   "metadata": {},
   "outputs": [],
   "source": [
    "df_address[\"lat_lng\"] = df_address[\"address_raw\"].apply(local.get_lat_lng)"
   ]
  },
  {
   "cell_type": "code",
   "execution_count": null,
   "metadata": {},
   "outputs": [],
   "source": [
    "df_address[\"formatted_address\"] = df_address[\"address_raw\"].apply(local.get_formatted_address)"
   ]
  },
  {
   "cell_type": "code",
   "execution_count": 36,
   "metadata": {},
   "outputs": [],
   "source": [
    "df_address[\"lat\"] = df_address[\"lat_lng\"].apply(lambda x:x[\"lat\"])\n",
    "df_address[\"lng\"] = df_address[\"lat_lng\"].apply(lambda x:x[\"lng\"])"
   ]
  },
  {
   "cell_type": "code",
   "execution_count": 40,
   "metadata": {},
   "outputs": [],
   "source": [
    "df_address = df_address.drop(columns=[\"lat_lng\"], axis = 1)"
   ]
  },
  {
   "cell_type": "code",
   "execution_count": 41,
   "metadata": {},
   "outputs": [
    {
     "data": {
      "text/html": [
       "<div>\n",
       "<style scoped>\n",
       "    .dataframe tbody tr th:only-of-type {\n",
       "        vertical-align: middle;\n",
       "    }\n",
       "\n",
       "    .dataframe tbody tr th {\n",
       "        vertical-align: top;\n",
       "    }\n",
       "\n",
       "    .dataframe thead th {\n",
       "        text-align: right;\n",
       "    }\n",
       "</style>\n",
       "<table border=\"1\" class=\"dataframe\">\n",
       "  <thead>\n",
       "    <tr style=\"text-align: right;\">\n",
       "      <th></th>\n",
       "      <th>Nom</th>\n",
       "      <th>Adresse</th>\n",
       "      <th>Adresse (suite)</th>\n",
       "      <th>Libellé de la commune</th>\n",
       "      <th>Code postal</th>\n",
       "      <th>address_raw</th>\n",
       "      <th>formatted_address</th>\n",
       "      <th>lat</th>\n",
       "      <th>lng</th>\n",
       "    </tr>\n",
       "  </thead>\n",
       "  <tbody>\n",
       "    <tr>\n",
       "      <th>0</th>\n",
       "      <td>Decheterie de Monistrol sur Loire</td>\n",
       "      <td>les Cheminches</td>\n",
       "      <td></td>\n",
       "      <td>Monistrol-sur-Loire</td>\n",
       "      <td>43120</td>\n",
       "      <td>Decheterie de Monistrol sur Loire les Cheminch...</td>\n",
       "      <td>Les Cheminches, 43120 Monistrol-sur-Loire, France</td>\n",
       "      <td>45.267835</td>\n",
       "      <td>4.184644</td>\n",
       "    </tr>\n",
       "    <tr>\n",
       "      <th>1</th>\n",
       "      <td>Decheterie de Pierrefort</td>\n",
       "      <td>Rue de Salzet</td>\n",
       "      <td></td>\n",
       "      <td>Pierrefort</td>\n",
       "      <td>15230</td>\n",
       "      <td>Decheterie de Pierrefort Rue de Salzet  Pierre...</td>\n",
       "      <td>Rue de Salzet, 15230 Pierrefort, France</td>\n",
       "      <td>44.922413</td>\n",
       "      <td>2.838710</td>\n",
       "    </tr>\n",
       "    <tr>\n",
       "      <th>2</th>\n",
       "      <td>Decheterie de Pionsat</td>\n",
       "      <td>les Fayes</td>\n",
       "      <td></td>\n",
       "      <td>Pionsat</td>\n",
       "      <td>63330</td>\n",
       "      <td>Decheterie de Pionsat les Fayes  Pionsat 63330</td>\n",
       "      <td>Les Fayes, 63330 Pionsat, France</td>\n",
       "      <td>46.108807</td>\n",
       "      <td>2.700687</td>\n",
       "    </tr>\n",
       "    <tr>\n",
       "      <th>3</th>\n",
       "      <td>Decheterie de Saint Flour</td>\n",
       "      <td>les Cramades</td>\n",
       "      <td>Zi de la Florizane</td>\n",
       "      <td>Saint-Flour</td>\n",
       "      <td>15100</td>\n",
       "      <td>Decheterie de Saint Flour les Cramades Zi de l...</td>\n",
       "      <td>Zone Industrielle la Florizane &amp; Les Cramades,...</td>\n",
       "      <td>45.049331</td>\n",
       "      <td>3.100755</td>\n",
       "    </tr>\n",
       "    <tr>\n",
       "      <th>4</th>\n",
       "      <td>Decheterie de Saint Gervais d'Auvergne</td>\n",
       "      <td>Saint-Gervais-D'Auvergne</td>\n",
       "      <td></td>\n",
       "      <td>Saint-Gervais-d'Auvergne</td>\n",
       "      <td>63390</td>\n",
       "      <td>Decheterie de Saint Gervais d'Auvergne Saint-G...</td>\n",
       "      <td>63390 Saint-Gervais-d'Auvergne, France</td>\n",
       "      <td>46.029527</td>\n",
       "      <td>2.821046</td>\n",
       "    </tr>\n",
       "  </tbody>\n",
       "</table>\n",
       "</div>"
      ],
      "text/plain": [
       "                                      Nom                   Adresse  \\\n",
       "0       Decheterie de Monistrol sur Loire            les Cheminches   \n",
       "1                Decheterie de Pierrefort             Rue de Salzet   \n",
       "2                   Decheterie de Pionsat                 les Fayes   \n",
       "3               Decheterie de Saint Flour              les Cramades   \n",
       "4  Decheterie de Saint Gervais d'Auvergne  Saint-Gervais-D'Auvergne   \n",
       "\n",
       "      Adresse (suite)     Libellé de la commune Code postal  \\\n",
       "0                           Monistrol-sur-Loire       43120   \n",
       "1                                    Pierrefort       15230   \n",
       "2                                       Pionsat       63330   \n",
       "3  Zi de la Florizane               Saint-Flour       15100   \n",
       "4                      Saint-Gervais-d'Auvergne       63390   \n",
       "\n",
       "                                         address_raw  \\\n",
       "0  Decheterie de Monistrol sur Loire les Cheminch...   \n",
       "1  Decheterie de Pierrefort Rue de Salzet  Pierre...   \n",
       "2     Decheterie de Pionsat les Fayes  Pionsat 63330   \n",
       "3  Decheterie de Saint Flour les Cramades Zi de l...   \n",
       "4  Decheterie de Saint Gervais d'Auvergne Saint-G...   \n",
       "\n",
       "                                   formatted_address        lat       lng  \n",
       "0  Les Cheminches, 43120 Monistrol-sur-Loire, France  45.267835  4.184644  \n",
       "1            Rue de Salzet, 15230 Pierrefort, France  44.922413  2.838710  \n",
       "2                   Les Fayes, 63330 Pionsat, France  46.108807  2.700687  \n",
       "3  Zone Industrielle la Florizane & Les Cramades,...  45.049331  3.100755  \n",
       "4             63390 Saint-Gervais-d'Auvergne, France  46.029527  2.821046  "
      ]
     },
     "execution_count": 41,
     "metadata": {},
     "output_type": "execute_result"
    }
   ],
   "source": [
    "df_address.head()"
   ]
  },
  {
   "cell_type": "code",
   "execution_count": 45,
   "metadata": {},
   "outputs": [],
   "source": [
    "df_final = pd.concat([df_address, df_info_trash], axis = 1)"
   ]
  },
  {
   "cell_type": "code",
   "execution_count": 49,
   "metadata": {},
   "outputs": [],
   "source": [
    "df_final = df_final.drop(columns=[\"Adresse\", \"Adresse (suite)\", \"Libellé de la commune\", \"Code postal\"])"
   ]
  },
  {
   "cell_type": "code",
   "execution_count": 53,
   "metadata": {},
   "outputs": [
    {
     "data": {
      "text/html": [
       "<div>\n",
       "<style scoped>\n",
       "    .dataframe tbody tr th:only-of-type {\n",
       "        vertical-align: middle;\n",
       "    }\n",
       "\n",
       "    .dataframe tbody tr th {\n",
       "        vertical-align: top;\n",
       "    }\n",
       "\n",
       "    .dataframe thead th {\n",
       "        text-align: right;\n",
       "    }\n",
       "</style>\n",
       "<table border=\"1\" class=\"dataframe\">\n",
       "  <thead>\n",
       "    <tr style=\"text-align: right;\">\n",
       "      <th></th>\n",
       "      <th>Nom</th>\n",
       "      <th>address_raw</th>\n",
       "      <th>formatted_address</th>\n",
       "      <th>lat</th>\n",
       "      <th>lng</th>\n",
       "      <th>non_dangereux</th>\n",
       "      <th>dangereux</th>\n",
       "      <th>amiantes</th>\n",
       "    </tr>\n",
       "  </thead>\n",
       "  <tbody>\n",
       "    <tr>\n",
       "      <th>0</th>\n",
       "      <td>Decheterie de Monistrol sur Loire</td>\n",
       "      <td>Decheterie de Monistrol sur Loire les Cheminch...</td>\n",
       "      <td>Les Cheminches, 43120 Monistrol-sur-Loire, France</td>\n",
       "      <td>45.267835</td>\n",
       "      <td>4.184644</td>\n",
       "      <td>True</td>\n",
       "      <td>True</td>\n",
       "      <td>False</td>\n",
       "    </tr>\n",
       "    <tr>\n",
       "      <th>1</th>\n",
       "      <td>Decheterie de Pierrefort</td>\n",
       "      <td>Decheterie de Pierrefort Rue de Salzet  Pierre...</td>\n",
       "      <td>Rue de Salzet, 15230 Pierrefort, France</td>\n",
       "      <td>44.922413</td>\n",
       "      <td>2.838710</td>\n",
       "      <td>True</td>\n",
       "      <td>True</td>\n",
       "      <td>False</td>\n",
       "    </tr>\n",
       "    <tr>\n",
       "      <th>2</th>\n",
       "      <td>Decheterie de Pionsat</td>\n",
       "      <td>Decheterie de Pionsat les Fayes  Pionsat 63330</td>\n",
       "      <td>Les Fayes, 63330 Pionsat, France</td>\n",
       "      <td>46.108807</td>\n",
       "      <td>2.700687</td>\n",
       "      <td>True</td>\n",
       "      <td>True</td>\n",
       "      <td>False</td>\n",
       "    </tr>\n",
       "    <tr>\n",
       "      <th>3</th>\n",
       "      <td>Decheterie de Saint Flour</td>\n",
       "      <td>Decheterie de Saint Flour les Cramades Zi de l...</td>\n",
       "      <td>Zone Industrielle la Florizane &amp; Les Cramades,...</td>\n",
       "      <td>45.049331</td>\n",
       "      <td>3.100755</td>\n",
       "      <td>True</td>\n",
       "      <td>True</td>\n",
       "      <td>False</td>\n",
       "    </tr>\n",
       "    <tr>\n",
       "      <th>4</th>\n",
       "      <td>Decheterie de Saint Gervais d'Auvergne</td>\n",
       "      <td>Decheterie de Saint Gervais d'Auvergne Saint-G...</td>\n",
       "      <td>63390 Saint-Gervais-d'Auvergne, France</td>\n",
       "      <td>46.029527</td>\n",
       "      <td>2.821046</td>\n",
       "      <td>True</td>\n",
       "      <td>True</td>\n",
       "      <td>False</td>\n",
       "    </tr>\n",
       "  </tbody>\n",
       "</table>\n",
       "</div>"
      ],
      "text/plain": [
       "                                      Nom  \\\n",
       "0       Decheterie de Monistrol sur Loire   \n",
       "1                Decheterie de Pierrefort   \n",
       "2                   Decheterie de Pionsat   \n",
       "3               Decheterie de Saint Flour   \n",
       "4  Decheterie de Saint Gervais d'Auvergne   \n",
       "\n",
       "                                         address_raw  \\\n",
       "0  Decheterie de Monistrol sur Loire les Cheminch...   \n",
       "1  Decheterie de Pierrefort Rue de Salzet  Pierre...   \n",
       "2     Decheterie de Pionsat les Fayes  Pionsat 63330   \n",
       "3  Decheterie de Saint Flour les Cramades Zi de l...   \n",
       "4  Decheterie de Saint Gervais d'Auvergne Saint-G...   \n",
       "\n",
       "                                   formatted_address        lat       lng  \\\n",
       "0  Les Cheminches, 43120 Monistrol-sur-Loire, France  45.267835  4.184644   \n",
       "1            Rue de Salzet, 15230 Pierrefort, France  44.922413  2.838710   \n",
       "2                   Les Fayes, 63330 Pionsat, France  46.108807  2.700687   \n",
       "3  Zone Industrielle la Florizane & Les Cramades,...  45.049331  3.100755   \n",
       "4             63390 Saint-Gervais-d'Auvergne, France  46.029527  2.821046   \n",
       "\n",
       "   non_dangereux  dangereux  amiantes  \n",
       "0           True       True     False  \n",
       "1           True       True     False  \n",
       "2           True       True     False  \n",
       "3           True       True     False  \n",
       "4           True       True     False  "
      ]
     },
     "execution_count": 53,
     "metadata": {},
     "output_type": "execute_result"
    }
   ],
   "source": [
    "df_final.head()"
   ]
  },
  {
   "cell_type": "code",
   "execution_count": 50,
   "metadata": {},
   "outputs": [],
   "source": [
    "df_final.to_csv(\"formatted_data.csv\", index=False)"
   ]
  },
  {
   "cell_type": "code",
   "execution_count": 33,
   "metadata": {},
   "outputs": [
    {
     "data": {
      "text/html": [
       "<div>\n",
       "<style scoped>\n",
       "    .dataframe tbody tr th:only-of-type {\n",
       "        vertical-align: middle;\n",
       "    }\n",
       "\n",
       "    .dataframe tbody tr th {\n",
       "        vertical-align: top;\n",
       "    }\n",
       "\n",
       "    .dataframe thead th {\n",
       "        text-align: right;\n",
       "    }\n",
       "</style>\n",
       "<table border=\"1\" class=\"dataframe\">\n",
       "  <thead>\n",
       "    <tr style=\"text-align: right;\">\n",
       "      <th></th>\n",
       "      <th>Nom</th>\n",
       "      <th>formatted_address</th>\n",
       "      <th>dist</th>\n",
       "    </tr>\n",
       "  </thead>\n",
       "  <tbody>\n",
       "    <tr>\n",
       "      <th>249</th>\n",
       "      <td>Déchèterie Vaulnaveys-le-haut</td>\n",
       "      <td>D5E, 38410 Vaulnaveys-le-Haut, France</td>\n",
       "      <td>6.765365</td>\n",
       "    </tr>\n",
       "    <tr>\n",
       "      <th>205</th>\n",
       "      <td>Déchèterie Saint-egreve</td>\n",
       "      <td>45 Rue du Pont Noir, 38120 Saint-Egrève, France</td>\n",
       "      <td>8.350308</td>\n",
       "    </tr>\n",
       "    <tr>\n",
       "      <th>257</th>\n",
       "      <td>Déchèterie Vif</td>\n",
       "      <td>Av. de la Gare, 38450 Vif, France</td>\n",
       "      <td>14.189278</td>\n",
       "    </tr>\n",
       "    <tr>\n",
       "      <th>107</th>\n",
       "      <td>Déchèterie Livet-et-Gavet</td>\n",
       "      <td>38220 Livet-et-Gavet, France</td>\n",
       "      <td>15.493777</td>\n",
       "    </tr>\n",
       "  </tbody>\n",
       "</table>\n",
       "</div>"
      ],
      "text/plain": [
       "                               Nom  \\\n",
       "249  Déchèterie Vaulnaveys-le-haut   \n",
       "205        Déchèterie Saint-egreve   \n",
       "257                 Déchèterie Vif   \n",
       "107      Déchèterie Livet-et-Gavet   \n",
       "\n",
       "                                   formatted_address       dist  \n",
       "249            D5E, 38410 Vaulnaveys-le-Haut, France   6.765365  \n",
       "205  45 Rue du Pont Noir, 38120 Saint-Egrève, France   8.350308  \n",
       "257                Av. de la Gare, 38450 Vif, France  14.189278  \n",
       "107                     38220 Livet-et-Gavet, France  15.493777  "
      ]
     },
     "execution_count": 33,
     "metadata": {},
     "output_type": "execute_result"
    }
   ],
   "source": [
    "from trashlocation import TrashLocation\n",
    "import pandas as pd\n",
    "pd.options.mode.chained_assignment = None \n",
    "root_path = os.path.dirname(os.path.abspath(\"\"))\n",
    "API_KEY = os.environ.get(\"API_KEY\")\n",
    "a = TrashLocation(root_path=root_path)\n",
    "a.API_KEY = API_KEY\n",
    "a.get_data_path(\"formatted_data.csv\")\n",
    "df_n_nearest = a.get_n_nearest(address=\"residence hector berlioz saint martin d'heres\", n=4, trash_type=\"amiantes\")\n",
    "\n",
    "df_n_nearest"
   ]
  },
  {
   "cell_type": "code",
   "execution_count": 34,
   "metadata": {},
   "outputs": [],
   "source": [
    "df_n_nearest.reset_index(inplace=True,drop=True)"
   ]
  },
  {
   "cell_type": "code",
   "execution_count": 39,
   "metadata": {},
   "outputs": [
    {
     "name": "stdout",
     "output_type": "stream",
     "text": [
      "{'Nom': {0: 'Déchèterie\\xa0Vaulnaveys-le-haut', 1: 'Déchèterie\\xa0Saint-egreve', 2: 'Déchèterie\\xa0Vif', 3: 'Déchèterie\\xa0Livet-et-Gavet'}, 'formatted_address': {0: 'D5E, 38410 Vaulnaveys-le-Haut, France', 1: '45 Rue du Pont Noir, 38120 Saint-Egrève, France', 2: 'Av. de la Gare, 38450 Vif, France', 3: '38220 Livet-et-Gavet, France'}, 'dist': {0: 6.7653652888598765, 1: 8.350308378325302, 2: 14.189277676143329, 3: 15.493777380459537}}\n"
     ]
    }
   ],
   "source": [
    "print(df_n_nearest.to_dict())"
   ]
  }
 ],
 "metadata": {
  "interpreter": {
   "hash": "4fa47a27ca8eee657969699a4465f0dbf3c2b364d980a19b74e6d890ae061047"
  },
  "kernelspec": {
   "display_name": "Python 3.9.7 ('base')",
   "language": "python",
   "name": "python3"
  },
  "language_info": {
   "codemirror_mode": {
    "name": "ipython",
    "version": 3
   },
   "file_extension": ".py",
   "mimetype": "text/x-python",
   "name": "python",
   "nbconvert_exporter": "python",
   "pygments_lexer": "ipython3",
   "version": "3.9.7"
  },
  "orig_nbformat": 4
 },
 "nbformat": 4,
 "nbformat_minor": 2
}
